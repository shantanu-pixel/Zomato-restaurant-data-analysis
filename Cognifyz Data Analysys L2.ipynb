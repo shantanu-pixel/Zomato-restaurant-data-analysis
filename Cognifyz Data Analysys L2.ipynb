{
 "cells": [
  {
   "cell_type": "markdown",
   "id": "3a5f000a",
   "metadata": {},
   "source": [
    "# Cognifyz Data Analysys LEVEL_2 (Shantanu Garain)"
   ]
  },
  {
   "cell_type": "markdown",
   "id": "59e599fe",
   "metadata": {},
   "source": [
    "## Importing Libraries "
   ]
  },
  {
   "cell_type": "code",
   "execution_count": 1,
   "id": "2f78337a",
   "metadata": {},
   "outputs": [],
   "source": [
    "import pandas as pd\n",
    "import matplotlib.pyplot as plt\n",
    "from sklearn.cluster import KMeans\n",
    "import folium\n",
    "import warnings\n",
    "warnings.filterwarnings('ignore')"
   ]
  },
  {
   "cell_type": "code",
   "execution_count": 2,
   "id": "ce86013e",
   "metadata": {},
   "outputs": [],
   "source": [
    "df = pd.read_csv('Dataset.csv')"
   ]
  },
  {
   "cell_type": "markdown",
   "id": "a1a40ea5",
   "metadata": {},
   "source": [
    "# LEVEL_2 Task_1 (Restaurent Ratings)"
   ]
  },
  {
   "cell_type": "markdown",
   "id": "f1792f84",
   "metadata": {},
   "source": [
    "## 1. Analyze the distribution of aggregate ratings and determine the most common rating range  "
   ]
  },
  {
   "cell_type": "code",
   "execution_count": 3,
   "id": "44cc6fb9",
   "metadata": {},
   "outputs": [
    {
     "data": {
      "image/png": "[encoded data removed]",
      "text/plain": [
       "<Figure size 600x400 with 1 Axes>"
      ]
     },
     "metadata": {},
     "output_type": "display_data"
    },
    {
     "name": "stdout",
     "output_type": "stream",
     "text": [
      "The most common rating range is: 0.0\n"
     ]
    }
   ],
   "source": [
    "def rating_distribution(dataset_path):\n",
    "    plt.figure(figsize=(6,4))\n",
    "    plt.hist(df['Aggregate rating'], bins = 10, edgecolor = 'black', color = 'orange')\n",
    "    plt.xlabel('Rating')\n",
    "    plt.ylabel('Frequency')\n",
    "    plt.title('Distribution of aggregate Ratings')\n",
    "    plt.grid(True)\n",
    "    plt.show()\n",
    "    \n",
    "    most_common_range = df['Aggregate rating'].mode()[0]\n",
    "    return most_common_range\n",
    "\n",
    "dataset_path = 'Restaurents.csv'\n",
    "most_common_rating_range = rating_distribution(dataset_path)\n",
    "\n",
    "print(f\"The most common rating range is: {most_common_rating_range}\")"
   ]
  },
  {
   "cell_type": "markdown",
   "id": "01d9b039",
   "metadata": {},
   "source": [
    "## 2.Calculate the average number of votes received by restaurants. "
   ]
  },
  {
   "cell_type": "code",
   "execution_count": 4,
   "id": "4b732134",
   "metadata": {},
   "outputs": [
    {
     "name": "stdout",
     "output_type": "stream",
     "text": [
      "The average number of votes is 156.909747670401 received by restaurents\n"
     ]
    }
   ],
   "source": [
    "avg_votes = df['Votes'].mean()\n",
    "print(f\"The average number of votes is {avg_votes} received by restaurents\")"
   ]
  },
  {
   "cell_type": "markdown",
   "id": "77fcb7b7",
   "metadata": {},
   "source": [
    "# LEVEL_2 Task_2 (Cuisine Combination)"
   ]
  },
  {
   "cell_type": "markdown",
   "id": "92cfdad1",
   "metadata": {},
   "source": [
    "## 1.  Identify the most common combinations of cuisines in the dataset."
   ]
  },
  {
   "cell_type": "code",
   "execution_count": 5,
   "id": "360d4291",
   "metadata": {},
   "outputs": [
    {
     "name": "stdout",
     "output_type": "stream",
     "text": [
      "Cuisines\n",
      "North Indian      2992\n",
      " Chinese          1880\n",
      " Fast Food        1314\n",
      " North Indian      968\n",
      "Chinese            855\n",
      "                  ... \n",
      " Ramen               1\n",
      "Indonesian           1\n",
      " Bubble Tea          1\n",
      "Kiwi                 1\n",
      " World Cuisine       1\n",
      "Name: count, Length: 249, dtype: int64\n"
     ]
    }
   ],
   "source": [
    "common_combination = df['Cuisines'].str.split(',').explode()\n",
    "count = common_combination.value_counts()\n",
    "print(count)"
   ]
  },
  {
   "cell_type": "markdown",
   "id": "d16a6c80",
   "metadata": {},
   "source": [
    "## 2.  Determine if certain cuisine combinations tend to have higher ratings. "
   ]
  },
  {
   "cell_type": "code",
   "execution_count": 6,
   "id": "ba895f5e",
   "metadata": {},
   "outputs": [
    {
     "data": {
      "text/plain": [
       "Cuisines\n",
       "Afghani                                      0.725\n",
       "Afghani, Mughlai, Chinese                    0.000\n",
       "Afghani, North Indian                        0.000\n",
       "Afghani, North Indian, Pakistani, Arabian    0.000\n",
       "African                                      4.700\n",
       "                                             ...  \n",
       "Western, Asian, Cafe                         4.200\n",
       "Western, Fusion, Fast Food                   3.200\n",
       "World Cuisine                                4.900\n",
       "World Cuisine, Mexican, Italian              4.400\n",
       "World Cuisine, Patisserie, Cafe              4.200\n",
       "Name: Aggregate rating, Length: 1825, dtype: float64"
      ]
     },
     "execution_count": 6,
     "metadata": {},
     "output_type": "execute_result"
    }
   ],
   "source": [
    "rating = df.groupby('Cuisines')['Aggregate rating'].mean()\n",
    "rating"
   ]
  },
  {
   "cell_type": "code",
   "execution_count": 7,
   "id": "af5e7fd8",
   "metadata": {},
   "outputs": [
    {
     "data": {
      "text/plain": [
       "Cuisines\n",
       "Italian, Deli                     4.9\n",
       "Hawaiian, Seafood                 4.9\n",
       "American, Sandwich, Tea           4.9\n",
       "Continental, Indian               4.9\n",
       "European, Asian, Indian           4.9\n",
       "                                 ... \n",
       "Fast Food, Desserts, Beverages    0.0\n",
       "Fast Food, Chinese, Burger        0.0\n",
       "Cafe, French                      0.0\n",
       "Seafood, Mughlai, North Indian    0.0\n",
       "Fast Food, Mughlai, Armenian      0.0\n",
       "Name: Aggregate rating, Length: 1825, dtype: float64"
      ]
     },
     "execution_count": 7,
     "metadata": {},
     "output_type": "execute_result"
    }
   ],
   "source": [
    "# Finding the top ratings\n",
    "top_rating = rating.sort_values(ascending=False)\n",
    "top_rating"
   ]
  },
  {
   "cell_type": "code",
   "execution_count": 8,
   "id": "fa3e9c21",
   "metadata": {},
   "outputs": [
    {
     "name": "stdout",
     "output_type": "stream",
     "text": [
      "cuisine combinations tend to have higher ratings is: Cuisines\n",
      "Italian, Deli                     4.9\n",
      "Hawaiian, Seafood                 4.9\n",
      "American, Sandwich, Tea           4.9\n",
      "Continental, Indian               4.9\n",
      "European, Asian, Indian           4.9\n",
      "                                 ... \n",
      "Fast Food, Desserts, Beverages    0.0\n",
      "Fast Food, Chinese, Burger        0.0\n",
      "Cafe, French                      0.0\n",
      "Seafood, Mughlai, North Indian    0.0\n",
      "Fast Food, Mughlai, Armenian      0.0\n",
      "Name: Aggregate rating, Length: 1825, dtype: float64\n"
     ]
    }
   ],
   "source": [
    "print(f\"cuisine combinations tend to have higher ratings is: {top_rating}\")"
   ]
  },
  {
   "cell_type": "markdown",
   "id": "f83acab8",
   "metadata": {},
   "source": [
    "# LEVEL_2 Task_3 (Geographic Analysis)"
   ]
  },
  {
   "cell_type": "markdown",
   "id": "97dc77ee",
   "metadata": {},
   "source": [
    "##  1. Plotting the locations of restaurants on a map using longitude and latitude coordinates."
   ]
  },
  {
   "cell_type": "code",
   "execution_count": 9,
   "id": "dcda4935",
   "metadata": {},
   "outputs": [
    {
     "data": {
      "text/plain": [
       "Index(['Restaurant ID', 'Restaurant Name', 'Country Code', 'City', 'Address',\n",
       "       'Locality', 'Locality Verbose', 'Longitude', 'Latitude', 'Cuisines',\n",
       "       'Average Cost for two', 'Currency', 'Has Table booking',\n",
       "       'Has Online delivery', 'Is delivering now', 'Switch to order menu',\n",
       "       'Price range', 'Aggregate rating', 'Rating color', 'Rating text',\n",
       "       'Votes'],\n",
       "      dtype='object')"
      ]
     },
     "execution_count": 9,
     "metadata": {},
     "output_type": "execute_result"
    }
   ],
   "source": [
    "df.columns"
   ]
  },
  {
   "cell_type": "code",
   "execution_count": 10,
   "id": "e7faf636",
   "metadata": {},
   "outputs": [],
   "source": [
    "res_name = df['Restaurant Name']\n",
    "lat = df['Latitude']\n",
    "long = df['Longitude']"
   ]
  },
  {
   "cell_type": "code",
   "execution_count": 11,
   "id": "bdcba4d3",
   "metadata": {},
   "outputs": [],
   "source": [
    "X = df[['Latitude', 'Longitude']]\n",
    "num_cluster = 5"
   ]
  },
  {
   "cell_type": "code",
   "execution_count": 12,
   "id": "28c690a0",
   "metadata": {},
   "outputs": [],
   "source": [
    "kmeans = KMeans(n_clusters=num_cluster, n_init = 10, random_state=42)\n",
    "df['cluster'] = kmeans.fit_predict(X)"
   ]
  },
  {
   "cell_type": "code",
   "execution_count": 13,
   "id": "b2e0911e",
   "metadata": {},
   "outputs": [],
   "source": [
    "map_centre = [lat.mean(), long.mean()]\n",
    "rest_map = folium.Map(location = map_centre, zoom_starts = 12)"
   ]
  },
  {
   "cell_type": "code",
   "execution_count": 14,
   "id": "3d1bf890",
   "metadata": {},
   "outputs": [],
   "source": [
    "cl_color = ['purple', 'red', 'blue', 'Green', 'black']"
   ]
  },
  {
   "cell_type": "code",
   "execution_count": 15,
   "id": "9953bb81",
   "metadata": {},
   "outputs": [],
   "source": [
    "for index, row in df.iterrows():\n",
    "    res_name = row['Restaurant Name']\n",
    "    lat = row['Latitude']\n",
    "    long = row['Longitude']\n",
    "    cusines = row['Cuisines']\n",
    "    rating = row['Aggregate rating']\n",
    "    cluster = row['cluster']"
   ]
  },
  {
   "cell_type": "code",
   "execution_count": 16,
   "id": "24f41525",
   "metadata": {},
   "outputs": [],
   "source": [
    "popup_text = f'Restaurent: {res_name}\\nCusine: {cusines}\\nRating: {rating}'"
   ]
  },
  {
   "cell_type": "code",
   "execution_count": 17,
   "id": "36100b8b",
   "metadata": {},
   "outputs": [],
   "source": [
    "marker = folium.Marker([lat, long], popup = popup_text)"
   ]
  },
  {
   "cell_type": "code",
   "execution_count": 18,
   "id": "72db2dec",
   "metadata": {},
   "outputs": [
    {
     "data": {
      "text/plain": [
       "<folium.map.Marker at 0x213205e1fd0>"
      ]
     },
     "execution_count": 18,
     "metadata": {},
     "output_type": "execute_result"
    }
   ],
   "source": [
    "marker.add_to(rest_map)"
   ]
  },
  {
   "cell_type": "code",
   "execution_count": 19,
   "id": "a3d1644a",
   "metadata": {},
   "outputs": [
    {
     "data": {
      "text/html": [
       "<div style=\"width:100%;\"><div style=\"position:relative;width:100%;height:0;padding-bottom:60%;\"><span style=\"color:#565656\">Make this Notebook Trusted to load map: File -> Trust Notebook</span><iframe srcdoc=\"&lt;!DOCTYPE html&gt;\n",
       "&lt;html&gt;\n",
       "&lt;head&gt;\n",
       "    \n",
       "    &lt;meta http-equiv=&quot;content-type&quot; content=&quot;text/html; charset=UTF-8&quot; /&gt;\n",
       "    \n",
       "        &lt;script&gt;\n",
       "            L_NO_TOUCH = false;\n",
       "            L_DISABLE_3D = false;\n",
       "        &lt;/script&gt;\n",
       "    \n",
       "    &lt;style&gt;html, body {width: 100%;height: 100%;margin: 0;padding: 0;}&lt;/style&gt;\n",
       "    &lt;style&gt;#map {position:absolute;top:0;bottom:0;right:0;left:0;}&lt;/style&gt;\n",
       "    &lt;script src=&quot;https://cdn.jsdelivr.net/npm/leaflet@1.9.3/dist/leaflet.js&quot;&gt;&lt;/script&gt;\n",
       "    &lt;script src=&quot;https://code.jquery.com/jquery-1.12.4.min.js&quot;&gt;&lt;/script&gt;\n",
       "    &lt;script src=&quot;https://cdn.jsdelivr.net/npm/bootstrap@5.2.2/dist/js/bootstrap.bundle.min.js&quot;&gt;&lt;/script&gt;\n",
       "    &lt;script src=&quot;https://cdnjs.cloudflare.com/ajax/libs/Leaflet.awesome-markers/2.0.2/leaflet.awesome-markers.js&quot;&gt;&lt;/script&gt;\n",
       "    &lt;link rel=&quot;stylesheet&quot; href=&quot;https://cdn.jsdelivr.net/npm/leaflet@1.9.3/dist/leaflet.css&quot;/&gt;\n",
       "    &lt;link rel=&quot;stylesheet&quot; href=&quot;https://cdn.jsdelivr.net/npm/bootstrap@5.2.2/dist/css/bootstrap.min.css&quot;/&gt;\n",
       "    &lt;link rel=&quot;stylesheet&quot; href=&quot;https://netdna.bootstrapcdn.com/bootstrap/3.0.0/css/bootstrap.min.css&quot;/&gt;\n",
       "    &lt;link rel=&quot;stylesheet&quot; href=&quot;https://cdn.jsdelivr.net/npm/@fortawesome/fontawesome-free@6.2.0/css/all.min.css&quot;/&gt;\n",
       "    &lt;link rel=&quot;stylesheet&quot; href=&quot;https://cdnjs.cloudflare.com/ajax/libs/Leaflet.awesome-markers/2.0.2/leaflet.awesome-markers.css&quot;/&gt;\n",
       "    &lt;link rel=&quot;stylesheet&quot; href=&quot;https://cdn.jsdelivr.net/gh/python-visualization/folium/folium/templates/leaflet.awesome.rotate.min.css&quot;/&gt;\n",
       "    \n",
       "            &lt;meta name=&quot;viewport&quot; content=&quot;width=device-width,\n",
       "                initial-scale=1.0, maximum-scale=1.0, user-scalable=no&quot; /&gt;\n",
       "            &lt;style&gt;\n",
       "                #map_caa349577a9fbcae837687730699ef91 {\n",
       "                    position: relative;\n",
       "                    width: 100.0%;\n",
       "                    height: 100.0%;\n",
       "                    left: 0.0%;\n",
       "                    top: 0.0%;\n",
       "                }\n",
       "                .leaflet-container { font-size: 1rem; }\n",
       "            &lt;/style&gt;\n",
       "        \n",
       "&lt;/head&gt;\n",
       "&lt;body&gt;\n",
       "    \n",
       "    \n",
       "            &lt;div class=&quot;folium-map&quot; id=&quot;map_caa349577a9fbcae837687730699ef91&quot; &gt;&lt;/div&gt;\n",
       "        \n",
       "&lt;/body&gt;\n",
       "&lt;script&gt;\n",
       "    \n",
       "    \n",
       "            var map_caa349577a9fbcae837687730699ef91 = L.map(\n",
       "                &quot;map_caa349577a9fbcae837687730699ef91&quot;,\n",
       "                {\n",
       "                    center: [25.854380700074756, 64.12657446168706],\n",
       "                    crs: L.CRS.EPSG3857,\n",
       "                    zoom: 10,\n",
       "                    zoomControl: true,\n",
       "                    preferCanvas: false,\n",
       "                    zoomStarts: 12,\n",
       "                }\n",
       "            );\n",
       "\n",
       "            \n",
       "\n",
       "        \n",
       "    \n",
       "            var tile_layer_52b45ca2e2ea8f054e08e5af18b14839 = L.tileLayer(\n",
       "                &quot;https://{s}.tile.openstreetmap.org/{z}/{x}/{y}.png&quot;,\n",
       "                {&quot;attribution&quot;: &quot;Data by \\u0026copy; \\u003ca target=\\&quot;_blank\\&quot; href=\\&quot;http://openstreetmap.org\\&quot;\\u003eOpenStreetMap\\u003c/a\\u003e, under \\u003ca target=\\&quot;_blank\\&quot; href=\\&quot;http://www.openstreetmap.org/copyright\\&quot;\\u003eODbL\\u003c/a\\u003e.&quot;, &quot;detectRetina&quot;: false, &quot;maxNativeZoom&quot;: 18, &quot;maxZoom&quot;: 18, &quot;minZoom&quot;: 0, &quot;noWrap&quot;: false, &quot;opacity&quot;: 1, &quot;subdomains&quot;: &quot;abc&quot;, &quot;tms&quot;: false}\n",
       "            ).addTo(map_caa349577a9fbcae837687730699ef91);\n",
       "        \n",
       "    \n",
       "            var marker_3958d9c954d3f85da83a7825d0b7317d = L.marker(\n",
       "                [40.98477563, 29.02601603],\n",
       "                {}\n",
       "            ).addTo(map_caa349577a9fbcae837687730699ef91);\n",
       "        \n",
       "    \n",
       "        var popup_e959ea684a438be80015f107b7d2422c = L.popup({&quot;maxWidth&quot;: &quot;100%&quot;});\n",
       "\n",
       "        \n",
       "            \n",
       "                var html_be90de4e75f43f6b2bca4fbbe679c35a = $(`&lt;div id=&quot;html_be90de4e75f43f6b2bca4fbbe679c35a&quot; style=&quot;width: 100.0%; height: 100.0%;&quot;&gt;Restaurent: Walter&#x27;s Coffee Roastery Cusine: Cafe Rating: 4.0&lt;/div&gt;`)[0];\n",
       "                popup_e959ea684a438be80015f107b7d2422c.setContent(html_be90de4e75f43f6b2bca4fbbe679c35a);\n",
       "            \n",
       "        \n",
       "\n",
       "        marker_3958d9c954d3f85da83a7825d0b7317d.bindPopup(popup_e959ea684a438be80015f107b7d2422c)\n",
       "        ;\n",
       "\n",
       "        \n",
       "    \n",
       "&lt;/script&gt;\n",
       "&lt;/html&gt;\" style=\"position:absolute;width:100%;height:100%;left:0;top:0;border:none !important;\" allowfullscreen webkitallowfullscreen mozallowfullscreen></iframe></div></div>"
      ],
      "text/plain": [
       "<folium.folium.Map at 0x2130cd41290>"
      ]
     },
     "metadata": {},
     "output_type": "display_data"
    }
   ],
   "source": [
    "display(rest_map)"
   ]
  },
  {
   "cell_type": "markdown",
   "id": "3b507b41",
   "metadata": {},
   "source": [
    "## 2. Identify any patterns or clusters of restaurants in specific areas. "
   ]
  },
  {
   "cell_type": "code",
   "execution_count": 20,
   "id": "f97d06c2",
   "metadata": {},
   "outputs": [
    {
     "data": {
      "image/png": "[encoded data removed]",
      "text/plain": [
       "<Figure size 640x480 with 1 Axes>"
      ]
     },
     "metadata": {},
     "output_type": "display_data"
    }
   ],
   "source": [
    "plt.scatter(df['Longitude'],df['Latitude'])\n",
    "plt.xlabel('Longitude')\n",
    "plt.ylabel('Latitude')\n",
    "plt.title('Clusters of Restaurents')\n",
    "plt.show()"
   ]
  },
  {
   "cell_type": "markdown",
   "id": "f596e320",
   "metadata": {},
   "source": [
    "# LEVEL_2 Task_4 (Restaurant Chains)"
   ]
  },
  {
   "cell_type": "markdown",
   "id": "ee75fc61",
   "metadata": {},
   "source": [
    "## 1.Identify if there are any restaurant chains present in the dataset. "
   ]
  },
  {
   "cell_type": "code",
   "execution_count": 21,
   "id": "d1af2c2d",
   "metadata": {},
   "outputs": [
    {
     "data": {
      "text/plain": [
       "Restaurant Name\n",
       "Cafe Coffee Day       83\n",
       "Domino's Pizza        79\n",
       "Subway                63\n",
       "Green Chick Chop      51\n",
       "McDonald's            48\n",
       "                      ..\n",
       "Town Hall              2\n",
       "Halki Aanch            2\n",
       "Snack Junction         2\n",
       "Delhi Biryani Hut      2\n",
       "Beliram Degchiwala     2\n",
       "Name: count, Length: 734, dtype: int64"
      ]
     },
     "execution_count": 21,
     "metadata": {},
     "output_type": "execute_result"
    }
   ],
   "source": [
    "chain = df['Restaurant Name'].value_counts()\n",
    "rest_chain = chain[chain>1]\n",
    "rest_chain"
   ]
  },
  {
   "cell_type": "markdown",
   "id": "8ee78bbe",
   "metadata": {},
   "source": [
    "## 2.Analyze the ratings and popularity of different restaurant chains."
   ]
  },
  {
   "cell_type": "code",
   "execution_count": 22,
   "id": "49268bf7",
   "metadata": {},
   "outputs": [],
   "source": [
    "chain_stat = df.groupby('Restaurant Name').agg({'Aggregate rating':'mean', 'Restaurant ID':'count'}).reset_index()\n",
    "chain_stat.columns = ['Restaurant Name', 'Average Rating', 'Popularity']"
   ]
  },
  {
   "cell_type": "code",
   "execution_count": 23,
   "id": "d78b087c",
   "metadata": {},
   "outputs": [
    {
     "data": {
      "text/html": [
       "<div>\n",
       "<style scoped>\n",
       "    .dataframe tbody tr th:only-of-type {\n",
       "        vertical-align: middle;\n",
       "    }\n",
       "\n",
       "    .dataframe tbody tr th {\n",
       "        vertical-align: top;\n",
       "    }\n",
       "\n",
       "    .dataframe thead th {\n",
       "        text-align: right;\n",
       "    }\n",
       "</style>\n",
       "<table border=\"1\" class=\"dataframe\">\n",
       "  <thead>\n",
       "    <tr style=\"text-align: right;\">\n",
       "      <th></th>\n",
       "      <th>Restaurant Name</th>\n",
       "      <th>Average Rating</th>\n",
       "      <th>Popularity</th>\n",
       "    </tr>\n",
       "  </thead>\n",
       "  <tbody>\n",
       "    <tr>\n",
       "      <th>5322</th>\n",
       "      <td>Restaurant Mosaic @ The Orient</td>\n",
       "      <td>4.9</td>\n",
       "      <td>1</td>\n",
       "    </tr>\n",
       "    <tr>\n",
       "      <th>4177</th>\n",
       "      <td>Ministry of Crab</td>\n",
       "      <td>4.9</td>\n",
       "      <td>1</td>\n",
       "    </tr>\n",
       "    <tr>\n",
       "      <th>4135</th>\n",
       "      <td>Miann</td>\n",
       "      <td>4.9</td>\n",
       "      <td>1</td>\n",
       "    </tr>\n",
       "    <tr>\n",
       "      <th>5757</th>\n",
       "      <td>Shorts Burger and Shine</td>\n",
       "      <td>4.9</td>\n",
       "      <td>1</td>\n",
       "    </tr>\n",
       "    <tr>\n",
       "      <th>4165</th>\n",
       "      <td>Milse</td>\n",
       "      <td>4.9</td>\n",
       "      <td>1</td>\n",
       "    </tr>\n",
       "    <tr>\n",
       "      <th>...</th>\n",
       "      <td>...</td>\n",
       "      <td>...</td>\n",
       "      <td>...</td>\n",
       "    </tr>\n",
       "    <tr>\n",
       "      <th>1105</th>\n",
       "      <td>Cafe Corner</td>\n",
       "      <td>0.0</td>\n",
       "      <td>1</td>\n",
       "    </tr>\n",
       "    <tr>\n",
       "      <th>4905</th>\n",
       "      <td>Pheva Tandooris</td>\n",
       "      <td>0.0</td>\n",
       "      <td>1</td>\n",
       "    </tr>\n",
       "    <tr>\n",
       "      <th>4913</th>\n",
       "      <td>Pick &amp; Carry</td>\n",
       "      <td>0.0</td>\n",
       "      <td>1</td>\n",
       "    </tr>\n",
       "    <tr>\n",
       "      <th>1096</th>\n",
       "      <td>Cafe Brownie</td>\n",
       "      <td>0.0</td>\n",
       "      <td>1</td>\n",
       "    </tr>\n",
       "    <tr>\n",
       "      <th>2292</th>\n",
       "      <td>Famous Parantha and Poori Sabzi</td>\n",
       "      <td>0.0</td>\n",
       "      <td>1</td>\n",
       "    </tr>\n",
       "  </tbody>\n",
       "</table>\n",
       "<p>7446 rows × 3 columns</p>\n",
       "</div>"
      ],
      "text/plain": [
       "                      Restaurant Name  Average Rating  Popularity\n",
       "5322   Restaurant Mosaic @ The Orient             4.9           1\n",
       "4177                 Ministry of Crab             4.9           1\n",
       "4135                            Miann             4.9           1\n",
       "5757          Shorts Burger and Shine             4.9           1\n",
       "4165                            Milse             4.9           1\n",
       "...                               ...             ...         ...\n",
       "1105                      Cafe Corner             0.0           1\n",
       "4905                  Pheva Tandooris             0.0           1\n",
       "4913                     Pick & Carry             0.0           1\n",
       "1096                     Cafe Brownie             0.0           1\n",
       "2292  Famous Parantha and Poori Sabzi             0.0           1\n",
       "\n",
       "[7446 rows x 3 columns]"
      ]
     },
     "execution_count": 23,
     "metadata": {},
     "output_type": "execute_result"
    }
   ],
   "source": [
    "# Analyze popularity of different restaurent with avg rating\n",
    "chain_stat.sort_values('Average Rating', ascending=False, inplace=True)\n",
    "chain_stat"
   ]
  },
  {
   "cell_type": "code",
   "execution_count": 24,
   "id": "297c1775",
   "metadata": {},
   "outputs": [
    {
     "data": {
      "text/html": [
       "<div>\n",
       "<style scoped>\n",
       "    .dataframe tbody tr th:only-of-type {\n",
       "        vertical-align: middle;\n",
       "    }\n",
       "\n",
       "    .dataframe tbody tr th {\n",
       "        vertical-align: top;\n",
       "    }\n",
       "\n",
       "    .dataframe thead th {\n",
       "        text-align: right;\n",
       "    }\n",
       "</style>\n",
       "<table border=\"1\" class=\"dataframe\">\n",
       "  <thead>\n",
       "    <tr style=\"text-align: right;\">\n",
       "      <th></th>\n",
       "      <th>Restaurant Name</th>\n",
       "      <th>Average Rating</th>\n",
       "      <th>Popularity</th>\n",
       "    </tr>\n",
       "  </thead>\n",
       "  <tbody>\n",
       "    <tr>\n",
       "      <th>5322</th>\n",
       "      <td>Restaurant Mosaic @ The Orient</td>\n",
       "      <td>4.9</td>\n",
       "      <td>1</td>\n",
       "    </tr>\n",
       "    <tr>\n",
       "      <th>4177</th>\n",
       "      <td>Ministry of Crab</td>\n",
       "      <td>4.9</td>\n",
       "      <td>1</td>\n",
       "    </tr>\n",
       "    <tr>\n",
       "      <th>4135</th>\n",
       "      <td>Miann</td>\n",
       "      <td>4.9</td>\n",
       "      <td>1</td>\n",
       "    </tr>\n",
       "    <tr>\n",
       "      <th>5757</th>\n",
       "      <td>Shorts Burger and Shine</td>\n",
       "      <td>4.9</td>\n",
       "      <td>1</td>\n",
       "    </tr>\n",
       "    <tr>\n",
       "      <th>4165</th>\n",
       "      <td>Milse</td>\n",
       "      <td>4.9</td>\n",
       "      <td>1</td>\n",
       "    </tr>\n",
       "    <tr>\n",
       "      <th>...</th>\n",
       "      <td>...</td>\n",
       "      <td>...</td>\n",
       "      <td>...</td>\n",
       "    </tr>\n",
       "    <tr>\n",
       "      <th>1105</th>\n",
       "      <td>Cafe Corner</td>\n",
       "      <td>0.0</td>\n",
       "      <td>1</td>\n",
       "    </tr>\n",
       "    <tr>\n",
       "      <th>4905</th>\n",
       "      <td>Pheva Tandooris</td>\n",
       "      <td>0.0</td>\n",
       "      <td>1</td>\n",
       "    </tr>\n",
       "    <tr>\n",
       "      <th>4913</th>\n",
       "      <td>Pick &amp; Carry</td>\n",
       "      <td>0.0</td>\n",
       "      <td>1</td>\n",
       "    </tr>\n",
       "    <tr>\n",
       "      <th>1096</th>\n",
       "      <td>Cafe Brownie</td>\n",
       "      <td>0.0</td>\n",
       "      <td>1</td>\n",
       "    </tr>\n",
       "    <tr>\n",
       "      <th>2292</th>\n",
       "      <td>Famous Parantha and Poori Sabzi</td>\n",
       "      <td>0.0</td>\n",
       "      <td>1</td>\n",
       "    </tr>\n",
       "  </tbody>\n",
       "</table>\n",
       "<p>7446 rows × 3 columns</p>\n",
       "</div>"
      ],
      "text/plain": [
       "                      Restaurant Name  Average Rating  Popularity\n",
       "5322   Restaurant Mosaic @ The Orient             4.9           1\n",
       "4177                 Ministry of Crab             4.9           1\n",
       "4135                            Miann             4.9           1\n",
       "5757          Shorts Burger and Shine             4.9           1\n",
       "4165                            Milse             4.9           1\n",
       "...                               ...             ...         ...\n",
       "1105                      Cafe Corner             0.0           1\n",
       "4905                  Pheva Tandooris             0.0           1\n",
       "4913                     Pick & Carry             0.0           1\n",
       "1096                     Cafe Brownie             0.0           1\n",
       "2292  Famous Parantha and Poori Sabzi             0.0           1\n",
       "\n",
       "[7446 rows x 3 columns]"
      ]
     },
     "execution_count": 24,
     "metadata": {},
     "output_type": "execute_result"
    }
   ],
   "source": [
    "chain_stat.sort_values('Popularity', ascending=True)\n",
    "chain_stat"
   ]
  },
  {
   "cell_type": "markdown",
   "id": "5d9efdab",
   "metadata": {},
   "source": [
    "## Let's visualize it  "
   ]
  },
  {
   "cell_type": "code",
   "execution_count": 25,
   "id": "28586e16",
   "metadata": {},
   "outputs": [
    {
     "data": {
      "image/png": "[encoded data removed]",
      "text/plain": [
       "<Figure size 800x600 with 2 Axes>"
      ]
     },
     "metadata": {},
     "output_type": "display_data"
    }
   ],
   "source": [
    "plt.figure(figsize=(8,6))\n",
    "plt.subplot(1,2,1)\n",
    "plt.bar(chain_stat['Restaurant Name'][:10], chain_stat['Average Rating'][:10],color='red')\n",
    "plt.xlabel('Restaurant Name')\n",
    "plt.ylabel('Average Rating')\n",
    "plt.title('Ratings of Restaurant Chain')\n",
    "plt.subplot(1,2,2)\n",
    "plt.bar(chain_stat['Restaurant Name'][:10],chain_stat['Popularity'][:10],color='y')\n",
    "plt.xlabel('Restaurant Name')\n",
    "plt.ylabel('Popularity')\n",
    "plt.title('Popularity of Restaurant Chain')\n",
    "plt.show()"
   ]
  },
  {
   "cell_type": "code",
   "execution_count": null,
   "id": "b84a5c01",
   "metadata": {},
   "outputs": [],
   "source": []
  }
 ],
 "metadata": {
  "kernelspec": {
   "display_name": "Python 3 (ipykernel)",
   "language": "python",
   "name": "python3"
  },
  "language_info": {
   "codemirror_mode": {
    "name": "ipython",
    "version": 3
   },
   "file_extension": ".py",
   "mimetype": "text/x-python",
   "name": "python",
   "nbconvert_exporter": "python",
   "pygments_lexer": "ipython3",
   "version": "3.11.5"
  }
 },
 "nbformat": 4,
 "nbformat_minor": 5
}
